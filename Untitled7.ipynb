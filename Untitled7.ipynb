{
 "cells": [
  {
   "cell_type": "code",
   "execution_count": 14,
   "metadata": {},
   "outputs": [],
   "source": [
    "import pandas as pd\n",
    "import numpy as np\n",
    "import numpy.random as npr\n",
    "import datetime\n",
    "n_assets = 20\n",
    "date_ranges = pd.date_range(datetime.datetime(1996, 1, 1),\n",
    "                           datetime.datetime(2018, 1, 1),\n",
    "                           freq='B')\n",
    "n_days = len(date_ranges)\n",
    "year = 252\n",
    "sigma = 0.1/np.sqrt(year)\n",
    "name_assets = ['asset' + str(n + 1) for n in range(n_assets)]\n",
    "mu = pd.Series(0.05*npr.rand(n_assets)/year, index = name_assets)\n",
    "dB = pd.DataFrame(npr.randn(n_days, n_assets), columns=name_assets,\n",
    "                 index=date_ranges)\n",
    "dB/=dB.std()\n",
    "ret = mu + sigma*dB"
   ]
  },
  {
   "cell_type": "code",
   "execution_count": null,
   "metadata": {},
   "outputs": [],
   "source": [
    "f = figure(figsize=(12, 8))\n",
    "ax = f.add_subplot(111)\n",
    "ret.cumsum_plot(ax=ax)"
   ]
  },
  {
   "cell_type": "code",
   "execution_count": 4,
   "metadata": {},
   "outputs": [],
   "source": [
    "import pandas as pd"
   ]
  },
  {
   "cell_type": "code",
   "execution_count": 6,
   "metadata": {},
   "outputs": [],
   "source": [
    "from pandas import date_range"
   ]
  },
  {
   "cell_type": "code",
   "execution_count": 7,
   "metadata": {},
   "outputs": [],
   "source": [
    "?date_range"
   ]
  },
  {
   "cell_type": "code",
   "execution_count": null,
   "metadata": {},
   "outputs": [],
   "source": []
  }
 ],
 "metadata": {
  "kernelspec": {
   "display_name": "Python 3",
   "language": "python",
   "name": "python3"
  },
  "language_info": {
   "codemirror_mode": {
    "name": "ipython",
    "version": 3
   },
   "file_extension": ".py",
   "mimetype": "text/x-python",
   "name": "python",
   "nbconvert_exporter": "python",
   "pygments_lexer": "ipython3",
   "version": "3.7.3"
  }
 },
 "nbformat": 4,
 "nbformat_minor": 2
}
